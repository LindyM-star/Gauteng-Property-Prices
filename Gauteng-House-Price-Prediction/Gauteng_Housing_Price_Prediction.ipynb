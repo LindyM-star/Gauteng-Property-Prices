{
 "cells": [
  {
   "cell_type": "markdown",
   "id": "457fba89",
   "metadata": {},
   "source": [
    "## Gauteng Housing Price Prediction Model\n"
   ]
  },
  {
   "cell_type": "markdown",
   "id": "b81df1e0",
   "metadata": {},
   "source": [
    "We chose the Gauteng Housing dataset collected by the Explore Data Science Academy the data comprises of  Johannesburg property prices, number of bathroom, bedroom, garages, property size in square meters (erf size), listing date and location. The goal of the model is to predict the property listing prices in JHB and the surrounding areas\n",
    "\n",
    "### The Model Objective \n",
    "\n",
    "The machine learning will be used as input in a web application used to predict housing prices used by property developers and home owners looking into selling their propertiy or a new home owner looking looking to buy a property. \n",
    "\n",
    "### System  Assumptions \n",
    "\n",
    "- The downstream machine learning system will output continous values.\n",
    "- The end customer will filter through the data attributes \n",
    "- Search filter based on the attributes  \n",
    "\n"
   ]
  },
  {
   "cell_type": "markdown",
   "id": "edf91511",
   "metadata": {},
   "source": [
    "### Loading the dataset \n",
    "\n",
    "The dataset is pre-split into training and testing data (*.csv)"
   ]
  },
  {
   "cell_type": "code",
   "execution_count": 1,
   "id": "458e72d2",
   "metadata": {},
   "outputs": [],
   "source": [
    "import os \n",
    "import pandas as pd \n",
    "import numpy as np "
   ]
  },
  {
   "cell_type": "code",
   "execution_count": 2,
   "id": "d62b4c43",
   "metadata": {},
   "outputs": [],
   "source": [
    "housing_training = pd.read_csv('house_prices_train.csv')"
   ]
  },
  {
   "cell_type": "code",
   "execution_count": 3,
   "id": "54cd4908",
   "metadata": {},
   "outputs": [],
   "source": [
    "housing_testing = pd.read_csv('house_prices_test.csv')"
   ]
  },
  {
   "cell_type": "code",
   "execution_count": 4,
   "id": "6a5e7be5",
   "metadata": {},
   "outputs": [
    {
     "name": "stdout",
     "output_type": "stream",
     "text": [
      "<class 'pandas.core.frame.DataFrame'>\n",
      "RangeIndex: 150 entries, 0 to 149\n",
      "Data columns (total 8 columns):\n",
      " #   Column            Non-Null Count  Dtype  \n",
      "---  ------            --------------  -----  \n",
      " 0   ID                150 non-null    int64  \n",
      " 1   Bathrooms         119 non-null    float64\n",
      " 2   Bedrooms          139 non-null    float64\n",
      " 3   Erf Size          82 non-null     object \n",
      " 4   Garages           73 non-null     float64\n",
      " 5   Listing Date      150 non-null    object \n",
      " 6   Type of Property  150 non-null    object \n",
      " 7   Location          150 non-null    object \n",
      "dtypes: float64(3), int64(1), object(4)\n",
      "memory usage: 9.5+ KB\n"
     ]
    }
   ],
   "source": [
    "housing_testing.info()"
   ]
  },
  {
   "cell_type": "code",
   "execution_count": 5,
   "id": "10d29d28",
   "metadata": {},
   "outputs": [],
   "source": [
    "dataset = pd.concat([housing_training,housing_testing])"
   ]
  },
  {
   "cell_type": "markdown",
   "id": "0159a758",
   "metadata": {},
   "source": [
    "### Quick Look at the Data Structure \n",
    "\n",
    "Each row represents a property listing. There are 8 attributes property ID, number of bathrooms, bedrooms, size (m^2), garages, listing date, type of property and the location in longtitude / latitudes.\n"
   ]
  },
  {
   "cell_type": "code",
   "execution_count": 6,
   "id": "0fd6ad4b",
   "metadata": {},
   "outputs": [
    {
     "data": {
      "text/html": [
       "<div>\n",
       "<style scoped>\n",
       "    .dataframe tbody tr th:only-of-type {\n",
       "        vertical-align: middle;\n",
       "    }\n",
       "\n",
       "    .dataframe tbody tr th {\n",
       "        vertical-align: top;\n",
       "    }\n",
       "\n",
       "    .dataframe thead th {\n",
       "        text-align: right;\n",
       "    }\n",
       "</style>\n",
       "<table border=\"1\" class=\"dataframe\">\n",
       "  <thead>\n",
       "    <tr style=\"text-align: right;\">\n",
       "      <th></th>\n",
       "      <th>ID</th>\n",
       "      <th>Bathrooms</th>\n",
       "      <th>Bedrooms</th>\n",
       "      <th>Erf Size</th>\n",
       "      <th>Garages</th>\n",
       "      <th>Listing Date</th>\n",
       "      <th>Price</th>\n",
       "      <th>Type of Property</th>\n",
       "      <th>Location</th>\n",
       "    </tr>\n",
       "  </thead>\n",
       "  <tbody>\n",
       "    <tr>\n",
       "      <th>0</th>\n",
       "      <td>1003</td>\n",
       "      <td>4.0</td>\n",
       "      <td>4.0</td>\n",
       "      <td>NaN</td>\n",
       "      <td>2.0</td>\n",
       "      <td>2019-10-28</td>\n",
       "      <td>4299000.0</td>\n",
       "      <td>House</td>\n",
       "      <td>lat: 51.5073509,long: -0.1277583</td>\n",
       "    </tr>\n",
       "    <tr>\n",
       "      <th>1</th>\n",
       "      <td>1011</td>\n",
       "      <td>2.0</td>\n",
       "      <td>3.0</td>\n",
       "      <td>1 733 m²</td>\n",
       "      <td>2.0</td>\n",
       "      <td>2019-06-05</td>\n",
       "      <td>2800000.0</td>\n",
       "      <td>House</td>\n",
       "      <td>lat: 51.5073509,long: -0.1277583</td>\n",
       "    </tr>\n",
       "    <tr>\n",
       "      <th>2</th>\n",
       "      <td>1016</td>\n",
       "      <td>2.0</td>\n",
       "      <td>3.0</td>\n",
       "      <td>987 m²</td>\n",
       "      <td>1.0</td>\n",
       "      <td>2019-10-31</td>\n",
       "      <td>980000.0</td>\n",
       "      <td>House</td>\n",
       "      <td>lat: 51.5073509,long: -0.1277583</td>\n",
       "    </tr>\n",
       "    <tr>\n",
       "      <th>3</th>\n",
       "      <td>1019</td>\n",
       "      <td>2.0</td>\n",
       "      <td>3.0</td>\n",
       "      <td>1 539 m²</td>\n",
       "      <td>2.0</td>\n",
       "      <td>2019-10-14</td>\n",
       "      <td>1795000.0</td>\n",
       "      <td>House</td>\n",
       "      <td>lat: 51.5073509,long: -0.1277583</td>\n",
       "    </tr>\n",
       "    <tr>\n",
       "      <th>4</th>\n",
       "      <td>1029</td>\n",
       "      <td>2.0</td>\n",
       "      <td>3.0</td>\n",
       "      <td>70 m²</td>\n",
       "      <td>NaN</td>\n",
       "      <td>2019-10-02</td>\n",
       "      <td>837780.0</td>\n",
       "      <td>House</td>\n",
       "      <td>lat: 51.5073509,long: -0.1277583</td>\n",
       "    </tr>\n",
       "  </tbody>\n",
       "</table>\n",
       "</div>"
      ],
      "text/plain": [
       "     ID  Bathrooms  Bedrooms  Erf Size  Garages Listing Date      Price  \\\n",
       "0  1003        4.0       4.0       NaN      2.0   2019-10-28  4299000.0   \n",
       "1  1011        2.0       3.0  1 733 m²      2.0   2019-06-05  2800000.0   \n",
       "2  1016        2.0       3.0    987 m²      1.0   2019-10-31   980000.0   \n",
       "3  1019        2.0       3.0  1 539 m²      2.0   2019-10-14  1795000.0   \n",
       "4  1029        2.0       3.0     70 m²      NaN   2019-10-02   837780.0   \n",
       "\n",
       "  Type of Property                          Location  \n",
       "0            House  lat: 51.5073509,long: -0.1277583  \n",
       "1            House  lat: 51.5073509,long: -0.1277583  \n",
       "2            House  lat: 51.5073509,long: -0.1277583  \n",
       "3            House  lat: 51.5073509,long: -0.1277583  \n",
       "4            House  lat: 51.5073509,long: -0.1277583  "
      ]
     },
     "execution_count": 6,
     "metadata": {},
     "output_type": "execute_result"
    }
   ],
   "source": [
    "dataset.head()"
   ]
  },
  {
   "cell_type": "markdown",
   "id": "9799e026",
   "metadata": {},
   "source": [
    "We use info() method is to get a quick description of the data, in particular the total number of rows, and each attribute’s type and number of non-null values  "
   ]
  },
  {
   "cell_type": "code",
   "execution_count": 7,
   "id": "2426af72",
   "metadata": {},
   "outputs": [
    {
     "name": "stdout",
     "output_type": "stream",
     "text": [
      "<class 'pandas.core.frame.DataFrame'>\n",
      "Int64Index: 888 entries, 0 to 149\n",
      "Data columns (total 9 columns):\n",
      " #   Column            Non-Null Count  Dtype  \n",
      "---  ------            --------------  -----  \n",
      " 0   ID                888 non-null    int64  \n",
      " 1   Bathrooms         755 non-null    float64\n",
      " 2   Bedrooms          856 non-null    float64\n",
      " 3   Erf Size          659 non-null    object \n",
      " 4   Garages           523 non-null    float64\n",
      " 5   Listing Date      888 non-null    object \n",
      " 6   Price             736 non-null    float64\n",
      " 7   Type of Property  888 non-null    object \n",
      " 8   Location          888 non-null    object \n",
      "dtypes: float64(4), int64(1), object(4)\n",
      "memory usage: 69.4+ KB\n"
     ]
    }
   ],
   "source": [
    "dataset.info()"
   ]
  },
  {
   "cell_type": "markdown",
   "id": "e79df992",
   "metadata": {},
   "source": [
    "There are 150 instances in the dataset, which means that it is fairly small by Machine Learning standards. but it’s perfect to get started. Notice that the garage attribute has only 73 non-null values, meaning that almost half are missing this feature. \n",
    "\n",
    "All attributes are numerical, except the type of the property and the listing date. Lets look closer at the property variable. "
   ]
  },
  {
   "cell_type": "code",
   "execution_count": 8,
   "id": "e4d20f90",
   "metadata": {},
   "outputs": [
    {
     "data": {
      "text/plain": [
       "House               588\n",
       "Townhouse           200\n",
       "Apartment / Flat    100\n",
       "Name: Type of Property, dtype: int64"
      ]
     },
     "execution_count": 8,
     "metadata": {},
     "output_type": "execute_result"
    }
   ],
   "source": [
    "dataset['Type of Property'].value_counts()"
   ]
  },
  {
   "cell_type": "markdown",
   "id": "ba5a7f7a",
   "metadata": {},
   "source": [
    "Using the describe() function to take a look at the countinous attributes, an average house has a 2 Bathrooms , 3 bedrooms and 2 garages.  "
   ]
  },
  {
   "cell_type": "code",
   "execution_count": 9,
   "id": "58639e50",
   "metadata": {},
   "outputs": [
    {
     "data": {
      "text/html": [
       "<div>\n",
       "<style scoped>\n",
       "    .dataframe tbody tr th:only-of-type {\n",
       "        vertical-align: middle;\n",
       "    }\n",
       "\n",
       "    .dataframe tbody tr th {\n",
       "        vertical-align: top;\n",
       "    }\n",
       "\n",
       "    .dataframe thead th {\n",
       "        text-align: right;\n",
       "    }\n",
       "</style>\n",
       "<table border=\"1\" class=\"dataframe\">\n",
       "  <thead>\n",
       "    <tr style=\"text-align: right;\">\n",
       "      <th></th>\n",
       "      <th>ID</th>\n",
       "      <th>Bathrooms</th>\n",
       "      <th>Bedrooms</th>\n",
       "      <th>Garages</th>\n",
       "      <th>Price</th>\n",
       "    </tr>\n",
       "  </thead>\n",
       "  <tbody>\n",
       "    <tr>\n",
       "      <th>count</th>\n",
       "      <td>888.000000</td>\n",
       "      <td>755.000000</td>\n",
       "      <td>856.000000</td>\n",
       "      <td>523.000000</td>\n",
       "      <td>7.360000e+02</td>\n",
       "    </tr>\n",
       "    <tr>\n",
       "      <th>mean</th>\n",
       "      <td>2785.493243</td>\n",
       "      <td>2.095364</td>\n",
       "      <td>3.175234</td>\n",
       "      <td>2.105163</td>\n",
       "      <td>2.031752e+06</td>\n",
       "    </tr>\n",
       "    <tr>\n",
       "      <th>std</th>\n",
       "      <td>1047.168354</td>\n",
       "      <td>1.026915</td>\n",
       "      <td>1.223414</td>\n",
       "      <td>1.021996</td>\n",
       "      <td>2.206027e+06</td>\n",
       "    </tr>\n",
       "    <tr>\n",
       "      <th>min</th>\n",
       "      <td>1.000000</td>\n",
       "      <td>1.000000</td>\n",
       "      <td>1.000000</td>\n",
       "      <td>1.000000</td>\n",
       "      <td>9.000000e+04</td>\n",
       "    </tr>\n",
       "    <tr>\n",
       "      <th>25%</th>\n",
       "      <td>1878.750000</td>\n",
       "      <td>1.500000</td>\n",
       "      <td>2.000000</td>\n",
       "      <td>2.000000</td>\n",
       "      <td>8.800000e+05</td>\n",
       "    </tr>\n",
       "    <tr>\n",
       "      <th>50%</th>\n",
       "      <td>2779.500000</td>\n",
       "      <td>2.000000</td>\n",
       "      <td>3.000000</td>\n",
       "      <td>2.000000</td>\n",
       "      <td>1.400000e+06</td>\n",
       "    </tr>\n",
       "    <tr>\n",
       "      <th>75%</th>\n",
       "      <td>3706.250000</td>\n",
       "      <td>2.000000</td>\n",
       "      <td>4.000000</td>\n",
       "      <td>2.000000</td>\n",
       "      <td>2.346250e+06</td>\n",
       "    </tr>\n",
       "    <tr>\n",
       "      <th>max</th>\n",
       "      <td>4595.000000</td>\n",
       "      <td>9.000000</td>\n",
       "      <td>16.000000</td>\n",
       "      <td>9.000000</td>\n",
       "      <td>3.000000e+07</td>\n",
       "    </tr>\n",
       "  </tbody>\n",
       "</table>\n",
       "</div>"
      ],
      "text/plain": [
       "                ID   Bathrooms    Bedrooms     Garages         Price\n",
       "count   888.000000  755.000000  856.000000  523.000000  7.360000e+02\n",
       "mean   2785.493243    2.095364    3.175234    2.105163  2.031752e+06\n",
       "std    1047.168354    1.026915    1.223414    1.021996  2.206027e+06\n",
       "min       1.000000    1.000000    1.000000    1.000000  9.000000e+04\n",
       "25%    1878.750000    1.500000    2.000000    2.000000  8.800000e+05\n",
       "50%    2779.500000    2.000000    3.000000    2.000000  1.400000e+06\n",
       "75%    3706.250000    2.000000    4.000000    2.000000  2.346250e+06\n",
       "max    4595.000000    9.000000   16.000000    9.000000  3.000000e+07"
      ]
     },
     "execution_count": 9,
     "metadata": {},
     "output_type": "execute_result"
    }
   ],
   "source": [
    "dataset.describe()"
   ]
  },
  {
   "cell_type": "markdown",
   "id": "7fbc8636",
   "metadata": {},
   "source": [
    "Lets take a looking at the house prices destribution, it appears that the property prices are not normally distributed. "
   ]
  },
  {
   "cell_type": "code",
   "execution_count": 10,
   "id": "3c426a06",
   "metadata": {},
   "outputs": [],
   "source": [
    "import matplotlib.pyplot as plt "
   ]
  },
  {
   "cell_type": "code",
   "execution_count": 11,
   "id": "5339e356",
   "metadata": {},
   "outputs": [
    {
     "data": {
      "text/plain": [
       "<AxesSubplot:>"
      ]
     },
     "execution_count": 11,
     "metadata": {},
     "output_type": "execute_result"
    },
    {
     "data": {
      "image/png": "[encoded data removed]",
      "text/plain": [
       "<Figure size 432x288 with 1 Axes>"
      ]
     },
     "metadata": {
      "needs_background": "light"
     },
     "output_type": "display_data"
    }
   ],
   "source": [
    "dataset['Price'].hist(bins = 90)\n"
   ]
  },
  {
   "cell_type": "markdown",
   "id": "f3e5983d",
   "metadata": {},
   "source": [
    "Lets take a look at the distribution of the number of bedrooms and bathrooms, both attributes resembles an exponetial fasmily of distribution "
   ]
  },
  {
   "cell_type": "code",
   "execution_count": 12,
   "id": "e6dc0d58",
   "metadata": {},
   "outputs": [
    {
     "data": {
      "text/plain": [
       "array([[<AxesSubplot:title={'center':'Bathrooms'}>,\n",
       "        <AxesSubplot:title={'center':'Bedrooms'}>]], dtype=object)"
      ]
     },
     "execution_count": 12,
     "metadata": {},
     "output_type": "execute_result"
    },
    {
     "data": {
      "image/png": "[encoded data removed]",
      "text/plain": [
       "<Figure size 432x288 with 2 Axes>"
      ]
     },
     "metadata": {
      "needs_background": "light"
     },
     "output_type": "display_data"
    }
   ],
   "source": [
    "dataset[[\"Bathrooms\",\"Bedrooms\"]].hist(bins = 15)"
   ]
  },
  {
   "cell_type": "code",
   "execution_count": 13,
   "id": "0e4634d5",
   "metadata": {},
   "outputs": [
    {
     "data": {
      "text/plain": [
       "0      lat: 51.5073509,long: -0.1277583\n",
       "1      lat: 51.5073509,long: -0.1277583\n",
       "2      lat: 51.5073509,long: -0.1277583\n",
       "3      lat: 51.5073509,long: -0.1277583\n",
       "4      lat: 51.5073509,long: -0.1277583\n",
       "                     ...               \n",
       "145    lat: 51.5073509,long: -0.1277583\n",
       "146    lat: 51.5073509,long: -0.1277583\n",
       "147    lat: 51.5073509,long: -0.1277583\n",
       "148    lat: 51.5073509,long: -0.1277583\n",
       "149    lat: 51.5073509,long: -0.1277583\n",
       "Name: Location, Length: 888, dtype: object"
      ]
     },
     "execution_count": 13,
     "metadata": {},
     "output_type": "execute_result"
    }
   ],
   "source": [
    "dataset['Location']"
   ]
  },
  {
   "cell_type": "code",
   "execution_count": 14,
   "id": "4d279642",
   "metadata": {},
   "outputs": [],
   "source": [
    "dataset[[\"noise1\", \"Lat\", \"Long\"]] = dataset[\"Location\"].str.split(' ', expand = True)\n"
   ]
  },
  {
   "cell_type": "code",
   "execution_count": 15,
   "id": "3edd9e78",
   "metadata": {
    "scrolled": true
   },
   "outputs": [],
   "source": [
    "dataset[[\"Lat\",\"noise0\"]] = dataset[\"Lat\"].str.split(',', expand = True)"
   ]
  },
  {
   "cell_type": "code",
   "execution_count": 16,
   "id": "b628d140",
   "metadata": {},
   "outputs": [],
   "source": [
    "dataset[\"Erf Size\"] = dataset[\"Erf Size\"].str.replace('m²', '')\n",
    "dataset[\"Erf Size\"] = dataset[\"Erf Size\"].str.replace(' ', '')\n"
   ]
  },
  {
   "cell_type": "code",
   "execution_count": null,
   "id": "974b69b9",
   "metadata": {},
   "outputs": [],
   "source": []
  },
  {
   "cell_type": "code",
   "execution_count": 17,
   "id": "6f4f105d",
   "metadata": {},
   "outputs": [],
   "source": [
    "dataset = dataset[[\"Bathrooms\",\"Bedrooms\",\"Erf Size\",\"Garages\",\"Lat\",\"Long\", \"Price\", \"Type of Property\", \"Listing Date\"]]"
   ]
  },
  {
   "cell_type": "code",
   "execution_count": 18,
   "id": "b392602a",
   "metadata": {
    "scrolled": true
   },
   "outputs": [],
   "source": [
    "dataset[\"Erf Size\"] = pd.to_numeric(dataset[\"Erf Size\"] , errors= 'coerce')"
   ]
  },
  {
   "cell_type": "code",
   "execution_count": 19,
   "id": "bb3117fc",
   "metadata": {},
   "outputs": [],
   "source": [
    "median_erf_size = dataset[\"Erf Size\"].median()\n",
    "\n",
    "dataset['Erf Size'] = dataset['Erf Size'].fillna(median_erf_size)"
   ]
  },
  {
   "cell_type": "code",
   "execution_count": 20,
   "id": "9e58b562",
   "metadata": {},
   "outputs": [
    {
     "data": {
      "text/plain": [
       "0       242.0\n",
       "1      1733.0\n",
       "2       987.0\n",
       "3      1539.0\n",
       "4        70.0\n",
       "        ...  \n",
       "145    2000.0\n",
       "146     242.0\n",
       "147     242.0\n",
       "148    1016.0\n",
       "149     995.0\n",
       "Name: Erf Size, Length: 888, dtype: float64"
      ]
     },
     "execution_count": 20,
     "metadata": {},
     "output_type": "execute_result"
    }
   ],
   "source": [
    "dataset['Erf Size']"
   ]
  },
  {
   "cell_type": "code",
   "execution_count": 38,
   "id": "dde9442b",
   "metadata": {},
   "outputs": [
    {
     "name": "stdout",
     "output_type": "stream",
     "text": [
      "<class 'pandas.core.frame.DataFrame'>\n",
      "Int64Index: 888 entries, 0 to 149\n",
      "Data columns (total 9 columns):\n",
      " #   Column            Non-Null Count  Dtype  \n",
      "---  ------            --------------  -----  \n",
      " 0   Bathrooms         888 non-null    float64\n",
      " 1   Bedrooms          888 non-null    float64\n",
      " 2   Erf Size          888 non-null    float64\n",
      " 3   Garages           888 non-null    float64\n",
      " 4   Lat               888 non-null    float64\n",
      " 5   Long              888 non-null    float64\n",
      " 6   Price             888 non-null    float64\n",
      " 7   Type of Property  888 non-null    object \n",
      " 8   Listing Date      888 non-null    object \n",
      "dtypes: float64(7), object(2)\n",
      "memory usage: 69.4+ KB\n"
     ]
    }
   ],
   "source": [
    "dataset.info()"
   ]
  },
  {
   "cell_type": "code",
   "execution_count": 22,
   "id": "d4b02caa",
   "metadata": {},
   "outputs": [],
   "source": [
    "dataset['Bathrooms'] = dataset['Bathrooms'].fillna(dataset['Bathrooms'].median())\n",
    "dataset['Bedrooms'] = dataset['Bedrooms'].fillna(dataset['Bedrooms'].median())\n",
    "dataset['Garages'] = dataset['Garages'].fillna(dataset['Garages'].median())\n",
    "dataset['Price'] = dataset['Price'].fillna(dataset['Price'].median())\n"
   ]
  },
  {
   "cell_type": "code",
   "execution_count": 39,
   "id": "17f96d97",
   "metadata": {},
   "outputs": [],
   "source": [
    "\n",
    "dataset.to_csv('/Users/admin/Projects/housing_prices/dataset.csv', index = False)"
   ]
  },
  {
   "cell_type": "markdown",
   "id": "5dfc428a",
   "metadata": {},
   "source": [
    "### Create a Test Set "
   ]
  },
  {
   "cell_type": "code",
   "execution_count": 24,
   "id": "82f0ae5e",
   "metadata": {},
   "outputs": [],
   "source": [
    "from sklearn.model_selection import train_test_split\n",
    "train_set, test_set = train_test_split(dataset, test_size=0.2, random_state=42)"
   ]
  },
  {
   "cell_type": "markdown",
   "id": "12a0c93c",
   "metadata": {},
   "source": [
    "### Visualizing Geographical Data"
   ]
  },
  {
   "cell_type": "code",
   "execution_count": 25,
   "id": "46b8be97",
   "metadata": {},
   "outputs": [
    {
     "name": "stdout",
     "output_type": "stream",
     "text": [
      "<class 'pandas.core.frame.DataFrame'>\n",
      "Int64Index: 710 entries, 707 to 102\n",
      "Data columns (total 9 columns):\n",
      " #   Column            Non-Null Count  Dtype  \n",
      "---  ------            --------------  -----  \n",
      " 0   Bathrooms         710 non-null    float64\n",
      " 1   Bedrooms          710 non-null    float64\n",
      " 2   Erf Size          710 non-null    float64\n",
      " 3   Garages           710 non-null    float64\n",
      " 4   Lat               710 non-null    object \n",
      " 5   Long              710 non-null    object \n",
      " 6   Price             710 non-null    float64\n",
      " 7   Type of Property  710 non-null    object \n",
      " 8   Listing Date      710 non-null    object \n",
      "dtypes: float64(5), object(4)\n",
      "memory usage: 55.5+ KB\n"
     ]
    }
   ],
   "source": [
    "property_listings = train_set.copy()\n",
    "property_listings.info()"
   ]
  },
  {
   "cell_type": "code",
   "execution_count": 26,
   "id": "c9fdf99e",
   "metadata": {},
   "outputs": [
    {
     "data": {
      "text/plain": [
       "<AxesSubplot:xlabel='Long', ylabel='Lat'>"
      ]
     },
     "execution_count": 26,
     "metadata": {},
     "output_type": "execute_result"
    },
    {
     "data": {
      "image/png": "[encoded data removed]",
      "text/plain": [
       "<Figure size 432x288 with 1 Axes>"
      ]
     },
     "metadata": {
      "needs_background": "light"
     },
     "output_type": "display_data"
    }
   ],
   "source": [
    "property_listings.plot(kind = 'scatter', x = 'Long', y = 'Lat', alpha = 0.1)"
   ]
  },
  {
   "cell_type": "markdown",
   "id": "fd94756b",
   "metadata": {},
   "source": []
  },
  {
   "cell_type": "code",
   "execution_count": 27,
   "id": "3e70ac4f",
   "metadata": {},
   "outputs": [],
   "source": [
    "dataset[\"Lat\"] = pd.to_numeric(dataset[\"Lat\"] , errors= 'coerce')\n",
    "dataset[\"Long\"] = pd.to_numeric(dataset[\"Long\"] , errors= 'coerce')"
   ]
  },
  {
   "cell_type": "markdown",
   "id": "34ef6efe",
   "metadata": {},
   "source": [
    "### Looking for Correlations"
   ]
  },
  {
   "cell_type": "code",
   "execution_count": 28,
   "id": "ac75dc3c",
   "metadata": {},
   "outputs": [
    {
     "data": {
      "text/plain": [
       "Price        1.000000\n",
       "Bathrooms    0.529835\n",
       "Garages      0.439806\n",
       "Bedrooms     0.390797\n",
       "Erf Size     0.049614\n",
       "Name: Price, dtype: float64"
      ]
     },
     "execution_count": 28,
     "metadata": {},
     "output_type": "execute_result"
    }
   ],
   "source": [
    "\n",
    "corr_matrix = property_listings.corr()\n",
    "corr_matrix[\"Price\"].sort_values(ascending=False)"
   ]
  },
  {
   "cell_type": "markdown",
   "id": "8603b4a5",
   "metadata": {},
   "source": [
    "### Prepare the Data for Machine Learning Algorithms\n"
   ]
  },
  {
   "cell_type": "markdown",
   "id": "72aa2318",
   "metadata": {},
   "source": [
    "#### Handling Text and Categorical Attributes"
   ]
  },
  {
   "cell_type": "code",
   "execution_count": 29,
   "id": "cde61b4d",
   "metadata": {},
   "outputs": [],
   "source": [
    "from sklearn.preprocessing import OrdinalEncoder\n",
    "ordinal_encoder = OrdinalEncoder()"
   ]
  },
  {
   "cell_type": "code",
   "execution_count": 30,
   "id": "db9574d2",
   "metadata": {},
   "outputs": [],
   "source": [
    "property_cat = train_set[[\"Type of Property\"]]"
   ]
  },
  {
   "cell_type": "code",
   "execution_count": 31,
   "id": "466659b9",
   "metadata": {},
   "outputs": [],
   "source": [
    "property_cat_encoded = ordinal_encoder.fit_transform(property_cat)"
   ]
  },
  {
   "cell_type": "code",
   "execution_count": 32,
   "id": "c42de1e2",
   "metadata": {},
   "outputs": [
    {
     "data": {
      "text/plain": [
       "array([[0.],\n",
       "       [1.],\n",
       "       [1.],\n",
       "       [1.],\n",
       "       [1.],\n",
       "       [1.],\n",
       "       [2.],\n",
       "       [1.],\n",
       "       [1.],\n",
       "       [2.]])"
      ]
     },
     "execution_count": 32,
     "metadata": {},
     "output_type": "execute_result"
    }
   ],
   "source": [
    "property_cat_encoded[:10]"
   ]
  },
  {
   "cell_type": "code",
   "execution_count": 33,
   "id": "9d1ec48a",
   "metadata": {},
   "outputs": [
    {
     "data": {
      "text/plain": [
       "[array(['Apartment / Flat', 'House', 'Townhouse'], dtype=object)]"
      ]
     },
     "execution_count": 33,
     "metadata": {},
     "output_type": "execute_result"
    }
   ],
   "source": [
    "ordinal_encoder.categories_"
   ]
  },
  {
   "cell_type": "code",
   "execution_count": 34,
   "id": "62589de1",
   "metadata": {},
   "outputs": [
    {
     "data": {
      "text/plain": [
       "<710x3 sparse matrix of type '<class 'numpy.float64'>'\n",
       "\twith 710 stored elements in Compressed Sparse Row format>"
      ]
     },
     "execution_count": 34,
     "metadata": {},
     "output_type": "execute_result"
    }
   ],
   "source": [
    "from sklearn.preprocessing import OneHotEncoder\n",
    "cat_encoder = OneHotEncoder()\n",
    "property_cat_1hot = cat_encoder.fit_transform(property_cat)\n",
    "property_cat_1hot"
   ]
  },
  {
   "cell_type": "code",
   "execution_count": 35,
   "id": "e4ff091f",
   "metadata": {},
   "outputs": [
    {
     "data": {
      "text/plain": [
       "array([[1., 0., 0.],\n",
       "       [0., 1., 0.],\n",
       "       [0., 1., 0.],\n",
       "       ...,\n",
       "       [0., 1., 0.],\n",
       "       [0., 1., 0.],\n",
       "       [0., 0., 1.]])"
      ]
     },
     "execution_count": 35,
     "metadata": {},
     "output_type": "execute_result"
    }
   ],
   "source": [
    "property_cat_1hot.toarray()"
   ]
  },
  {
   "cell_type": "code",
   "execution_count": 36,
   "id": "9073e075",
   "metadata": {},
   "outputs": [
    {
     "data": {
      "text/plain": [
       "[array(['Apartment / Flat', 'House', 'Townhouse'], dtype=object)]"
      ]
     },
     "execution_count": 36,
     "metadata": {},
     "output_type": "execute_result"
    }
   ],
   "source": [
    "cat_encoder.categories_"
   ]
  },
  {
   "cell_type": "markdown",
   "id": "ff06eca8",
   "metadata": {},
   "source": [
    "### Transformation Pipelines"
   ]
  },
  {
   "cell_type": "code",
   "execution_count": 37,
   "id": "ce054281",
   "metadata": {},
   "outputs": [
    {
     "ename": "NameError",
     "evalue": "name 'CombinedAttributesAdder' is not defined",
     "output_type": "error",
     "traceback": [
      "\u001b[0;31m---------------------------------------------------------------------------\u001b[0m",
      "\u001b[0;31mNameError\u001b[0m                                 Traceback (most recent call last)",
      "Input \u001b[0;32mIn [37]\u001b[0m, in \u001b[0;36m<cell line: 7>\u001b[0;34m()\u001b[0m\n\u001b[1;32m      4\u001b[0m \u001b[38;5;28;01mfrom\u001b[39;00m \u001b[38;5;21;01msklearn_features\u001b[39;00m\u001b[38;5;21;01m.\u001b[39;00m\u001b[38;5;21;01mtransformers\u001b[39;00m \u001b[38;5;28;01mimport\u001b[39;00m DataFrameSelector\n\u001b[1;32m      5\u001b[0m \u001b[38;5;28;01mfrom\u001b[39;00m \u001b[38;5;21;01msklearn\u001b[39;00m\u001b[38;5;21;01m.\u001b[39;00m\u001b[38;5;21;01mbase\u001b[39;00m \u001b[38;5;28;01mimport\u001b[39;00m BaseEstimator, TransformerMixin\n\u001b[1;32m      7\u001b[0m num_pipeline \u001b[38;5;241m=\u001b[39m Pipeline([\n\u001b[1;32m      8\u001b[0m     (\u001b[38;5;124m'\u001b[39m\u001b[38;5;124mimputer\u001b[39m\u001b[38;5;124m'\u001b[39m, SimpleImputer(strategy\u001b[38;5;241m=\u001b[39m\u001b[38;5;124m\"\u001b[39m\u001b[38;5;124mmedian\u001b[39m\u001b[38;5;124m\"\u001b[39m)),\n\u001b[0;32m----> 9\u001b[0m     (\u001b[38;5;124m'\u001b[39m\u001b[38;5;124mattribs_adder\u001b[39m\u001b[38;5;124m'\u001b[39m, \u001b[43mCombinedAttributesAdder\u001b[49m()),\n\u001b[1;32m     10\u001b[0m     (\u001b[38;5;124m'\u001b[39m\u001b[38;5;124mstd_scaler\u001b[39m\u001b[38;5;124m'\u001b[39m, StandardScaler()),\n\u001b[1;32m     11\u001b[0m ])\n",
      "\u001b[0;31mNameError\u001b[0m: name 'CombinedAttributesAdder' is not defined"
     ]
    }
   ],
   "source": [
    "from sklearn.pipeline import Pipeline\n",
    "from sklearn.preprocessing import StandardScaler\n",
    "from sklearn.impute import SimpleImputer\n",
    "from sklearn_features.transformers import DataFrameSelector\n",
    "from sklearn.base import BaseEstimator, TransformerMixin\n",
    "\n",
    "num_pipeline = Pipeline([\n",
    "    ('imputer', SimpleImputer(strategy=\"median\")),\n",
    "    ('attribs_adder', CombinedAttributesAdder()),\n",
    "    ('std_scaler', StandardScaler()),\n",
    "])\n"
   ]
  },
  {
   "cell_type": "code",
   "execution_count": null,
   "id": "341b944d",
   "metadata": {},
   "outputs": [],
   "source": []
  },
  {
   "cell_type": "code",
   "execution_count": null,
   "id": "641d609f",
   "metadata": {},
   "outputs": [],
   "source": [
    "from sklearn_features.transformers import DataFrameSelector"
   ]
  },
  {
   "cell_type": "code",
   "execution_count": null,
   "id": "ce6afda4",
   "metadata": {},
   "outputs": [],
   "source": [
    "from sklearn.base import BaseEstimator, TransformerMixin\n",
    "\n"
   ]
  },
  {
   "cell_type": "code",
   "execution_count": 40,
   "id": "1ea7a930",
   "metadata": {},
   "outputs": [
    {
     "name": "stdout",
     "output_type": "stream",
     "text": [
      "<class 'pandas.core.frame.DataFrame'>\n",
      "Int64Index: 888 entries, 0 to 149\n",
      "Data columns (total 9 columns):\n",
      " #   Column            Non-Null Count  Dtype  \n",
      "---  ------            --------------  -----  \n",
      " 0   Bathrooms         888 non-null    float64\n",
      " 1   Bedrooms          888 non-null    float64\n",
      " 2   Erf Size          888 non-null    float64\n",
      " 3   Garages           888 non-null    float64\n",
      " 4   Lat               888 non-null    float64\n",
      " 5   Long              888 non-null    float64\n",
      " 6   Price             888 non-null    float64\n",
      " 7   Type of Property  888 non-null    object \n",
      " 8   Listing Date      888 non-null    object \n",
      "dtypes: float64(7), object(2)\n",
      "memory usage: 69.4+ KB\n"
     ]
    }
   ],
   "source": [
    "dataset.info()"
   ]
  },
  {
   "cell_type": "code",
   "execution_count": null,
   "id": "bbc93af9",
   "metadata": {},
   "outputs": [],
   "source": []
  }
 ],
 "metadata": {
  "kernelspec": {
   "display_name": "Python 3 (ipykernel)",
   "language": "python",
   "name": "python3"
  },
  "language_info": {
   "codemirror_mode": {
    "name": "ipython",
    "version": 3
   },
   "file_extension": ".py",
   "mimetype": "text/x-python",
   "name": "python",
   "nbconvert_exporter": "python",
   "pygments_lexer": "ipython3",
   "version": "3.9.12"
  }
 },
 "nbformat": 4,
 "nbformat_minor": 5
}
